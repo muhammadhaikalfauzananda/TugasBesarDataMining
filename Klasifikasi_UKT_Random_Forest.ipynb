{
 "cells": [
  {
   "cell_type": "code",
   "execution_count": 3,
   "metadata": {},
   "outputs": [],
   "source": [
    "import openpyxl\n",
    "import pandas as pd\n",
    "from sklearn.metrics import accuracy_score, precision_score, recall_score,f1_score,confusion_matrix\n",
    "from sklearn.model_selection import train_test_split\n",
    "import seaborn as sns\n",
    "import matplotlib.pyplot as plt\n",
    "from sklearn.preprocessing import MinMaxScaler\n",
    "\n",
    "\n",
    "from sklearn.ensemble import RandomForestClassifier\n",
    "from imblearn.over_sampling import SMOTE\n",
    "\n"
   ]
  },
  {
   "cell_type": "code",
   "execution_count": 4,
   "metadata": {},
   "outputs": [
    {
     "name": "stdout",
     "output_type": "stream",
     "text": [
      "<class 'pandas.core.frame.DataFrame'>\n",
      "RangeIndex: 590 entries, 0 to 589\n",
      "Data columns (total 13 columns):\n",
      " #   Column                         Non-Null Count  Dtype \n",
      "---  ------                         --------------  ----- \n",
      " 0   Nim                            590 non-null    object\n",
      " 1   Penghasilan Orang Tua          590 non-null    int64 \n",
      " 2   Biaya hidup keluarga perbulan  590 non-null    int64 \n",
      " 3   Tagihan listrik perbulan       590 non-null    int64 \n",
      " 4   Jumlah Rumah                   590 non-null    object\n",
      " 5   Jumlah mobil                   590 non-null    int64 \n",
      " 6   Jumlah motor                   590 non-null    object\n",
      " 7   Jumlah laptop                  590 non-null    int64 \n",
      " 8   Jumlah handphone               590 non-null    object\n",
      " 9   Jumlah televisi                590 non-null    object\n",
      " 10  Jumlah kulkas                  590 non-null    int64 \n",
      " 11  Jumlah mesin cuci              590 non-null    int64 \n",
      " 12  UKT                            590 non-null    int64 \n",
      "dtypes: int64(8), object(5)\n",
      "memory usage: 60.0+ KB\n"
     ]
    }
   ],
   "source": [
    "data = pd.read_excel(f'../data_tubes.xlsx')\n",
    "data.info()"
   ]
  },
  {
   "cell_type": "code",
   "execution_count": 5,
   "metadata": {},
   "outputs": [
    {
     "data": {
      "text/html": [
       "<div>\n",
       "<style scoped>\n",
       "    .dataframe tbody tr th:only-of-type {\n",
       "        vertical-align: middle;\n",
       "    }\n",
       "\n",
       "    .dataframe tbody tr th {\n",
       "        vertical-align: top;\n",
       "    }\n",
       "\n",
       "    .dataframe thead th {\n",
       "        text-align: right;\n",
       "    }\n",
       "</style>\n",
       "<table border=\"1\" class=\"dataframe\">\n",
       "  <thead>\n",
       "    <tr style=\"text-align: right;\">\n",
       "      <th></th>\n",
       "      <th>Nim</th>\n",
       "      <th>Penghasilan Orang Tua</th>\n",
       "      <th>Biaya hidup keluarga perbulan</th>\n",
       "      <th>Tagihan listrik perbulan</th>\n",
       "      <th>Jumlah Rumah</th>\n",
       "      <th>Jumlah mobil</th>\n",
       "      <th>Jumlah motor</th>\n",
       "      <th>Jumlah laptop</th>\n",
       "      <th>Jumlah handphone</th>\n",
       "      <th>Jumlah televisi</th>\n",
       "      <th>Jumlah kulkas</th>\n",
       "      <th>Jumlah mesin cuci</th>\n",
       "      <th>UKT</th>\n",
       "    </tr>\n",
       "  </thead>\n",
       "  <tbody>\n",
       "    <tr>\n",
       "      <th>0</th>\n",
       "      <td>1185011XXXX</td>\n",
       "      <td>3000000</td>\n",
       "      <td>1600000</td>\n",
       "      <td>250000</td>\n",
       "      <td>1</td>\n",
       "      <td>1</td>\n",
       "      <td>3</td>\n",
       "      <td>2</td>\n",
       "      <td>4</td>\n",
       "      <td>1</td>\n",
       "      <td>1</td>\n",
       "      <td>1</td>\n",
       "      <td>4</td>\n",
       "    </tr>\n",
       "    <tr>\n",
       "      <th>1</th>\n",
       "      <td>1185011XXXX</td>\n",
       "      <td>1500000</td>\n",
       "      <td>1500000</td>\n",
       "      <td>150000</td>\n",
       "      <td>1</td>\n",
       "      <td>0</td>\n",
       "      <td>2</td>\n",
       "      <td>1</td>\n",
       "      <td>5</td>\n",
       "      <td>1</td>\n",
       "      <td>1</td>\n",
       "      <td>1</td>\n",
       "      <td>3</td>\n",
       "    </tr>\n",
       "    <tr>\n",
       "      <th>2</th>\n",
       "      <td>1185011XXXX</td>\n",
       "      <td>3660000</td>\n",
       "      <td>2000000</td>\n",
       "      <td>200000</td>\n",
       "      <td>0</td>\n",
       "      <td>0</td>\n",
       "      <td>0</td>\n",
       "      <td>0</td>\n",
       "      <td>0</td>\n",
       "      <td>0</td>\n",
       "      <td>0</td>\n",
       "      <td>0</td>\n",
       "      <td>4</td>\n",
       "    </tr>\n",
       "    <tr>\n",
       "      <th>3</th>\n",
       "      <td>1185011XXXX</td>\n",
       "      <td>1340000</td>\n",
       "      <td>740000</td>\n",
       "      <td>50000</td>\n",
       "      <td>0</td>\n",
       "      <td>0</td>\n",
       "      <td>0</td>\n",
       "      <td>0</td>\n",
       "      <td>1</td>\n",
       "      <td>1</td>\n",
       "      <td>0</td>\n",
       "      <td>0</td>\n",
       "      <td>2</td>\n",
       "    </tr>\n",
       "    <tr>\n",
       "      <th>4</th>\n",
       "      <td>1185011XXXX</td>\n",
       "      <td>1300000</td>\n",
       "      <td>600000</td>\n",
       "      <td>50000</td>\n",
       "      <td>0</td>\n",
       "      <td>0</td>\n",
       "      <td>2</td>\n",
       "      <td>1</td>\n",
       "      <td>3</td>\n",
       "      <td>1</td>\n",
       "      <td>1</td>\n",
       "      <td>0</td>\n",
       "      <td>2</td>\n",
       "    </tr>\n",
       "  </tbody>\n",
       "</table>\n",
       "</div>"
      ],
      "text/plain": [
       "           Nim  Penghasilan Orang Tua  Biaya hidup keluarga perbulan  \\\n",
       "0  1185011XXXX                3000000                        1600000   \n",
       "1  1185011XXXX                1500000                        1500000   \n",
       "2  1185011XXXX                3660000                        2000000   \n",
       "3  1185011XXXX                1340000                         740000   \n",
       "4  1185011XXXX                1300000                         600000   \n",
       "\n",
       "   Tagihan listrik perbulan Jumlah Rumah  Jumlah mobil Jumlah motor  \\\n",
       "0                    250000            1             1            3   \n",
       "1                    150000            1             0            2   \n",
       "2                    200000            0             0            0   \n",
       "3                     50000            0             0            0   \n",
       "4                     50000            0             0            2   \n",
       "\n",
       "   Jumlah laptop Jumlah handphone Jumlah televisi  Jumlah kulkas  \\\n",
       "0              2                4               1              1   \n",
       "1              1                5               1              1   \n",
       "2              0                0               0              0   \n",
       "3              0                1               1              0   \n",
       "4              1                3               1              1   \n",
       "\n",
       "   Jumlah mesin cuci  UKT  \n",
       "0                  1    4  \n",
       "1                  1    3  \n",
       "2                  0    4  \n",
       "3                  0    2  \n",
       "4                  0    2  "
      ]
     },
     "execution_count": 5,
     "metadata": {},
     "output_type": "execute_result"
    }
   ],
   "source": [
    "data.head()"
   ]
  },
  {
   "cell_type": "code",
   "execution_count": 6,
   "metadata": {},
   "outputs": [
    {
     "name": "stdout",
     "output_type": "stream",
     "text": [
      "<class 'pandas.core.frame.DataFrame'>\n",
      "RangeIndex: 590 entries, 0 to 589\n",
      "Data columns (total 12 columns):\n",
      " #   Column                         Non-Null Count  Dtype \n",
      "---  ------                         --------------  ----- \n",
      " 0   Penghasilan Orang Tua          590 non-null    int64 \n",
      " 1   Biaya hidup keluarga perbulan  590 non-null    int64 \n",
      " 2   Tagihan listrik perbulan       590 non-null    int64 \n",
      " 3   Jumlah Rumah                   590 non-null    object\n",
      " 4   Jumlah mobil                   590 non-null    int64 \n",
      " 5   Jumlah motor                   590 non-null    object\n",
      " 6   Jumlah laptop                  590 non-null    int64 \n",
      " 7   Jumlah handphone               590 non-null    object\n",
      " 8   Jumlah televisi                590 non-null    object\n",
      " 9   Jumlah kulkas                  590 non-null    int64 \n",
      " 10  Jumlah mesin cuci              590 non-null    int64 \n",
      " 11  UKT                            590 non-null    int64 \n",
      "dtypes: int64(8), object(4)\n",
      "memory usage: 55.4+ KB\n"
     ]
    }
   ],
   "source": [
    "kolom_yang_akan_dihapus = ['Nim']\n",
    "data_selection = data.drop(columns=kolom_yang_akan_dihapus)\n",
    "data_selection.info()"
   ]
  },
  {
   "cell_type": "code",
   "execution_count": 7,
   "metadata": {},
   "outputs": [
    {
     "name": "stdout",
     "output_type": "stream",
     "text": [
      "Penghasilan Orang Tua            0\n",
      "Biaya hidup keluarga perbulan    0\n",
      "Tagihan listrik perbulan         0\n",
      "Jumlah Rumah                     0\n",
      "Jumlah mobil                     0\n",
      "Jumlah motor                     0\n",
      "Jumlah laptop                    0\n",
      "Jumlah handphone                 0\n",
      "Jumlah televisi                  0\n",
      "Jumlah kulkas                    0\n",
      "Jumlah mesin cuci                0\n",
      "UKT                              0\n",
      "dtype: int64\n",
      "     Penghasilan Orang Tua  Biaya hidup keluarga perbulan  \\\n",
      "0                  3000000                        1600000   \n",
      "1                  1500000                        1500000   \n",
      "2                  3660000                        2000000   \n",
      "3                  1340000                         740000   \n",
      "4                  1300000                         600000   \n",
      "..                     ...                            ...   \n",
      "585                1000000                         900000   \n",
      "586                 500000                         600000   \n",
      "587                1500000                        1000000   \n",
      "588                3000000                        3000000   \n",
      "589                1000000                         800000   \n",
      "\n",
      "     Tagihan listrik perbulan Jumlah Rumah  Jumlah mobil Jumlah motor  \\\n",
      "0                      250000            1             1            3   \n",
      "1                      150000            1             0            2   \n",
      "2                      200000            0             0            0   \n",
      "3                       50000            0             0            0   \n",
      "4                       50000            0             0            2   \n",
      "..                        ...          ...           ...          ...   \n",
      "585                     75000            1             0            1   \n",
      "586                     50000            0             0            1   \n",
      "587                    150000            1             1            1   \n",
      "588                    300000            1             0            2   \n",
      "589                    100000            1             0            1   \n",
      "\n",
      "     Jumlah laptop Jumlah handphone Jumlah televisi  Jumlah kulkas  \\\n",
      "0                2                4               1              1   \n",
      "1                1                5               1              1   \n",
      "2                0                0               0              0   \n",
      "3                0                1               1              0   \n",
      "4                1                3               1              1   \n",
      "..             ...              ...             ...            ...   \n",
      "585              0                3               1              1   \n",
      "586              1                4               1              1   \n",
      "587              2                6               1              1   \n",
      "588              0                2               1              1   \n",
      "589              1                4               1              1   \n",
      "\n",
      "     Jumlah mesin cuci  UKT  \n",
      "0                    1    4  \n",
      "1                    1    3  \n",
      "2                    0    4  \n",
      "3                    0    2  \n",
      "4                    0    2  \n",
      "..                 ...  ...  \n",
      "585                  1    2  \n",
      "586                  1    2  \n",
      "587                  1    3  \n",
      "588                  1    3  \n",
      "589                  1    2  \n",
      "\n",
      "[590 rows x 12 columns]\n"
     ]
    }
   ],
   "source": [
    "jumlah_data_null = data_selection.isnull().sum().sort_values(ascending=False)\n",
    "print(jumlah_data_null)\n",
    "data_cleaning = data_selection.dropna()\n",
    "print(data_cleaning)"
   ]
  },
  {
   "cell_type": "code",
   "execution_count": 8,
   "metadata": {},
   "outputs": [
    {
     "name": "stdout",
     "output_type": "stream",
     "text": [
      "6\n",
      "0\n"
     ]
    }
   ],
   "source": [
    "count_duplicate_rows = data_cleaning.duplicated().sum()\n",
    "print(count_duplicate_rows)\n",
    "data_cleaning = data_cleaning.drop_duplicates()\n",
    "count_duplicate_rows = data_cleaning.duplicated().sum()\n",
    "print(count_duplicate_rows)"
   ]
  },
  {
   "cell_type": "code",
   "execution_count": 9,
   "metadata": {},
   "outputs": [
    {
     "name": "stdout",
     "output_type": "stream",
     "text": [
      "     Penghasilan Orang Tua  Biaya hidup keluarga perbulan  \\\n",
      "298                6416300                        5000000   \n",
      "\n",
      "     Tagihan listrik perbulan Jumlah Rumah  Jumlah mobil Jumlah motor  \\\n",
      "298                    500000            -             0            -   \n",
      "\n",
      "     Jumlah laptop Jumlah handphone Jumlah televisi  Jumlah kulkas  \\\n",
      "298              0                -               -              0   \n",
      "\n",
      "     Jumlah mesin cuci  UKT  \n",
      "298                  0    5  \n"
     ]
    }
   ],
   "source": [
    "baris_dash = data_cleaning[data_cleaning.eq('-').any(axis=1)]\n",
    "print(baris_dash)"
   ]
  },
  {
   "cell_type": "code",
   "execution_count": 10,
   "metadata": {},
   "outputs": [],
   "source": [
    "data_cleaned = data_cleaning[~data_cleaning.eq('-').any(axis=1)]\n"
   ]
  },
  {
   "cell_type": "code",
   "execution_count": 11,
   "metadata": {},
   "outputs": [
    {
     "name": "stdout",
     "output_type": "stream",
     "text": [
      "<class 'pandas.core.frame.DataFrame'>\n",
      "Int64Index: 583 entries, 0 to 589\n",
      "Data columns (total 12 columns):\n",
      " #   Column                         Non-Null Count  Dtype\n",
      "---  ------                         --------------  -----\n",
      " 0   Penghasilan Orang Tua          583 non-null    int64\n",
      " 1   Biaya hidup keluarga perbulan  583 non-null    int64\n",
      " 2   Tagihan listrik perbulan       583 non-null    int64\n",
      " 3   Jumlah Rumah                   583 non-null    int32\n",
      " 4   Jumlah mobil                   583 non-null    int64\n",
      " 5   Jumlah motor                   583 non-null    int32\n",
      " 6   Jumlah laptop                  583 non-null    int64\n",
      " 7   Jumlah handphone               583 non-null    int32\n",
      " 8   Jumlah televisi                583 non-null    int32\n",
      " 9   Jumlah kulkas                  583 non-null    int64\n",
      " 10  Jumlah mesin cuci              583 non-null    int64\n",
      " 11  UKT                            583 non-null    int64\n",
      "dtypes: int32(4), int64(8)\n",
      "memory usage: 50.1 KB\n"
     ]
    },
    {
     "name": "stderr",
     "output_type": "stream",
     "text": [
      "C:\\Users\\haikal\\AppData\\Local\\Temp\\ipykernel_145520\\4082325904.py:2: SettingWithCopyWarning: \n",
      "A value is trying to be set on a copy of a slice from a DataFrame.\n",
      "Try using .loc[row_indexer,col_indexer] = value instead\n",
      "\n",
      "See the caveats in the documentation: https://pandas.pydata.org/pandas-docs/stable/user_guide/indexing.html#returning-a-view-versus-a-copy\n",
      "  data_cleaned[kolom_int] = data_cleaned[kolom_int].astype(int)\n"
     ]
    }
   ],
   "source": [
    "kolom_int = [\"Jumlah Rumah\",\"Jumlah motor\",\"Jumlah handphone\",\"Jumlah televisi\"]\n",
    "data_cleaned[kolom_int] = data_cleaned[kolom_int].astype(int)\n",
    "data_transform = data_cleaned\n",
    "data_transform.info()"
   ]
  },
  {
   "cell_type": "code",
   "execution_count": 12,
   "metadata": {},
   "outputs": [
    {
     "data": {
      "image/png": "[encoded data removed]",
      "text/plain": [
       "<Figure size 800x600 with 1 Axes>"
      ]
     },
     "metadata": {},
     "output_type": "display_data"
    }
   ],
   "source": [
    "plt.figure(figsize=(8, 6))\n",
    "sns.countplot(data=data_transform, x=\"UKT\", palette=\"Set3\")\n",
    "plt.xlabel(\"UKT\")\n",
    "plt.ylabel(\"Jumlah\")\n",
    "plt.title(\"Perbandingan jumlah kelas\")\n",
    "plt.xticks(rotation=45)  \n",
    "plt.show()"
   ]
  },
  {
   "cell_type": "code",
   "execution_count": 13,
   "metadata": {},
   "outputs": [
    {
     "name": "stderr",
     "output_type": "stream",
     "text": [
      "c:\\Users\\haikal\\AppData\\Local\\Programs\\Python\\Python310\\lib\\site-packages\\sklearn\\metrics\\_classification.py:1344: UndefinedMetricWarning: Recall is ill-defined and being set to 0.0 in labels with no true samples. Use `zero_division` parameter to control this behavior.\n",
      "  _warn_prf(average, modifier, msg_start, len(result))\n",
      "c:\\Users\\haikal\\AppData\\Local\\Programs\\Python\\Python310\\lib\\site-packages\\sklearn\\metrics\\_classification.py:1344: UndefinedMetricWarning: Recall is ill-defined and being set to 0.0 in labels with no true samples. Use `zero_division` parameter to control this behavior.\n",
      "  _warn_prf(average, modifier, msg_start, len(result))\n"
     ]
    }
   ],
   "source": [
    "X = data_transform.drop(\"UKT\", axis=1)\n",
    "y = data_transform[\"UKT\"]\n",
    "\n",
    "scaler = MinMaxScaler()\n",
    "X_scaled = scaler.fit_transform(X)\n",
    "X_scaled_data = pd.DataFrame(X_scaled, columns=X.columns)\n",
    "\n",
    "X_train, X_test, y_train, y_test = train_test_split(X_scaled_data ,y, test_size=0.3, random_state=20)\n",
    "\n",
    "hasil = []\n",
    "for i in range(1,6):\n",
    "    model = RandomForestClassifier(n_estimators=i, random_state=20)\n",
    "\n",
    "    model.fit(X_train, y_train)\n",
    "    y_pred = model.predict(X_test)\n",
    "    conf_matrix = confusion_matrix(y_test, y_pred)\n",
    "    accuracy = accuracy_score(y_test, y_pred)\n",
    "\n",
    "    precision = precision_score(y_test, y_pred, average='weighted')\n",
    "    recall = recall_score(y_test, y_pred, average='weighted')\n",
    "    f1 = f1_score(y_test, y_pred, average='weighted')\n",
    "\n",
    "    hasil.append({\n",
    "            \"parameter\": {\n",
    "                \"jumlah_pohon\": i\n",
    "            },\n",
    "            \"akurasi\": accuracy,\n",
    "            \"precision\": precision,\n",
    "            \"recall\": recall,\n",
    "            \"f1\": f1,\n",
    "        })"
   ]
  },
  {
   "cell_type": "code",
   "execution_count": 14,
   "metadata": {},
   "outputs": [],
   "source": [
    "workbook = openpyxl.Workbook()\n",
    "worksheet = workbook.active\n",
    "worksheet.title = \"Tubes\"\n",
    "worksheet['A1'] = 'Parameter'\n",
    "worksheet['B1'] = 'akurasi'\n",
    "worksheet['C1'] = 'presisi'\n",
    "worksheet['D1'] = 'recall'\n",
    "worksheet['E1'] = 'f1'\n",
    "for j in range(len(hasil)):\n",
    "    worksheet[f'A{j+2}'] = str(hasil[j][\"parameter\"])\n",
    "    worksheet[f'B{j+2}'] = hasil[j][\"akurasi\"]\n",
    "    worksheet[f'C{j+2}'] = hasil[j][\"precision\"]\n",
    "    worksheet[f'D{j+2}'] = hasil[j][\"recall\"]\n",
    "    worksheet[f'E{j+2}'] = hasil[j][\"f1\"]\n",
    "\n",
    "\n",
    "workbook.save(\"beforeRF.xlsx\")"
   ]
  },
  {
   "cell_type": "code",
   "execution_count": 15,
   "metadata": {},
   "outputs": [
    {
     "name": "stdout",
     "output_type": "stream",
     "text": [
      "[{'parameter': {'jumlah_pohon': 1}, 'akurasi': 0.8742857142857143, 'precision': 0.883667279980644, 'recall': 0.8742857142857143, 'f1': 0.876121498454694}, {'parameter': {'jumlah_pohon': 2}, 'akurasi': 0.9257142857142857, 'precision': 0.9280884353741495, 'recall': 0.9257142857142857, 'f1': 0.9244527172147473}, {'parameter': {'jumlah_pohon': 3}, 'akurasi': 0.9657142857142857, 'precision': 0.9689795918367347, 'recall': 0.9657142857142857, 'f1': 0.9664823348694316}, {'parameter': {'jumlah_pohon': 4}, 'akurasi': 0.9542857142857143, 'precision': 0.9641274615109202, 'recall': 0.9542857142857143, 'f1': 0.9573168101286855}, {'parameter': {'jumlah_pohon': 5}, 'akurasi': 0.9771428571428571, 'precision': 0.979079365079365, 'recall': 0.9771428571428571, 'f1': 0.9771261644588728}]\n"
     ]
    }
   ],
   "source": [
    "print(hasil)"
   ]
  },
  {
   "cell_type": "code",
   "execution_count": 16,
   "metadata": {},
   "outputs": [],
   "source": [
    "X = data_transform.drop(\"UKT\", axis=1)\n",
    "y = data_transform[\"UKT\"]\n",
    "\n",
    "scaler = MinMaxScaler()\n",
    "X_scaled = scaler.fit_transform(X)\n",
    "X_scaled_data = pd.DataFrame(X_scaled, columns=X.columns)\n",
    "\n",
    "X_train, X_test, y_train, y_test = train_test_split(X_scaled_data,y, test_size=0.3,random_state=20)\n",
    "data_train = pd.concat([X_train,y_train],axis=1) \n"
   ]
  },
  {
   "cell_type": "code",
   "execution_count": 17,
   "metadata": {},
   "outputs": [
    {
     "data": {
      "image/png": "[encoded data removed]",
      "text/plain": [
       "<Figure size 800x600 with 1 Axes>"
      ]
     },
     "metadata": {},
     "output_type": "display_data"
    }
   ],
   "source": [
    "plt.figure(figsize=(8, 6))\n",
    "sns.countplot(data=data_train, x=\"UKT\", palette=\"Set3\")\n",
    "plt.xlabel(\"UKT\")\n",
    "plt.ylabel(\"Jumlah\")\n",
    "plt.title(\"Perbandingan jumlah kelas\")\n",
    "plt.xticks(rotation=45)  \n",
    "plt.show()"
   ]
  },
  {
   "cell_type": "code",
   "execution_count": 18,
   "metadata": {},
   "outputs": [
    {
     "data": {
      "text/plain": [
       "4.0    117\n",
       "3.0    116\n",
       "5.0     73\n",
       "2.0     67\n",
       "6.0     21\n",
       "1.0      9\n",
       "7.0      5\n",
       "Name: UKT, dtype: int64"
      ]
     },
     "execution_count": 18,
     "metadata": {},
     "output_type": "execute_result"
    }
   ],
   "source": [
    "data_train['UKT'].value_counts()"
   ]
  },
  {
   "cell_type": "code",
   "execution_count": 19,
   "metadata": {},
   "outputs": [
    {
     "data": {
      "image/png": "[encoded data removed]",
      "text/plain": [
       "<Figure size 800x600 with 1 Axes>"
      ]
     },
     "metadata": {},
     "output_type": "display_data"
    }
   ],
   "source": [
    "sm = SMOTE(sampling_strategy='auto', random_state=20,k_neighbors=3)\n",
    "X_resampled, y_resampled = sm.fit_resample(X_train,y_train)\n",
    "data_balanced = pd.concat([X_resampled,y_resampled],axis=1) \n",
    "plt.figure(figsize=(8, 6))\n",
    "sns.countplot(data=data_balanced, x=\"UKT\", palette=\"Set3\")\n",
    "plt.xlabel(\"UKT\")\n",
    "plt.ylabel(\"Jumlah\")\n",
    "plt.title(\"Perbandingan jumlah kelas\")\n",
    "plt.xticks(rotation=45)  \n",
    "plt.show()"
   ]
  },
  {
   "cell_type": "code",
   "execution_count": 20,
   "metadata": {},
   "outputs": [],
   "source": [
    "# count_per_column = data_balanced['UKT'].value_counts()\n",
    "\n",
    "# print(count_per_column)"
   ]
  },
  {
   "cell_type": "code",
   "execution_count": 21,
   "metadata": {},
   "outputs": [
    {
     "name": "stdout",
     "output_type": "stream",
     "text": [
      "0.9028571428571428\n",
      "0.9257142857142857\n",
      "0.9885714285714285\n",
      "0.9771428571428571\n"
     ]
    },
    {
     "name": "stderr",
     "output_type": "stream",
     "text": [
      "c:\\Users\\haikal\\AppData\\Local\\Programs\\Python\\Python310\\lib\\site-packages\\sklearn\\metrics\\_classification.py:1344: UndefinedMetricWarning: Recall is ill-defined and being set to 0.0 in labels with no true samples. Use `zero_division` parameter to control this behavior.\n",
      "  _warn_prf(average, modifier, msg_start, len(result))\n"
     ]
    },
    {
     "name": "stdout",
     "output_type": "stream",
     "text": [
      "0.9828571428571429\n"
     ]
    }
   ],
   "source": [
    "hasil = []\n",
    "\n",
    "for i in range(1,6):\n",
    "    model = RandomForestClassifier(n_estimators=i, random_state=20)\n",
    "\n",
    "    model.fit(X_resampled, y_resampled)\n",
    "    y_pred = model.predict(X_test)\n",
    "    conf_matrix = confusion_matrix(y_test, y_pred)\n",
    "    accuracy = accuracy_score(y_test, y_pred)\n",
    "\n",
    "    print(accuracy)\n",
    "\n",
    "    precision = precision_score(y_test, y_pred, average='weighted')\n",
    "    recall = recall_score(y_test, y_pred, average='weighted')\n",
    "    f1 = f1_score(y_test, y_pred, average='weighted')\n",
    "\n",
    "    hasil.append({\n",
    "            \"parameter\": {\n",
    "                \"jumlah_pohon\": i\n",
    "            },\n",
    "            \"akurasi\": accuracy,\n",
    "            \"precision\": precision,\n",
    "            \"recall\": recall,\n",
    "            \"f1\": f1,\n",
    "        })\n"
   ]
  },
  {
   "cell_type": "code",
   "execution_count": 22,
   "metadata": {},
   "outputs": [],
   "source": [
    "workbook = openpyxl.Workbook()\n",
    "worksheet = workbook.active\n",
    "worksheet.title = \"Tubes\"\n",
    "worksheet['A1'] = 'Parameter'\n",
    "worksheet['B1'] = 'akurasi'\n",
    "worksheet['C1'] = 'presisi'\n",
    "worksheet['D1'] = 'recall'\n",
    "worksheet['E1'] = 'f1'\n",
    "for j in range(len(hasil)):\n",
    "    worksheet[f'A{j+2}'] = str(hasil[j][\"parameter\"])\n",
    "    worksheet[f'B{j+2}'] = hasil[j][\"akurasi\"]\n",
    "    worksheet[f'C{j+2}'] = hasil[j][\"precision\"]\n",
    "    worksheet[f'D{j+2}'] = hasil[j][\"recall\"]\n",
    "    worksheet[f'E{j+2}'] = hasil[j][\"f1\"]\n",
    "\n",
    "\n",
    "workbook.save(\"afterRF.xlsx\")"
   ]
  },
  {
   "cell_type": "code",
   "execution_count": 23,
   "metadata": {},
   "outputs": [
    {
     "name": "stdout",
     "output_type": "stream",
     "text": [
      "[{'parameter': {'jumlah_pohon': 1}, 'akurasi': 0.9028571428571428, 'precision': 0.9071523423400738, 'recall': 0.9028571428571428, 'f1': 0.9028565018940958}, {'parameter': {'jumlah_pohon': 2}, 'akurasi': 0.9257142857142857, 'precision': 0.9285165143949003, 'recall': 0.9257142857142857, 'f1': 0.9253431428997932}, {'parameter': {'jumlah_pohon': 3}, 'akurasi': 0.9885714285714285, 'precision': 0.99, 'recall': 0.9885714285714285, 'f1': 0.9888580929077824}, {'parameter': {'jumlah_pohon': 4}, 'akurasi': 0.9771428571428571, 'precision': 0.978671679197995, 'recall': 0.9771428571428571, 'f1': 0.9772951137695819}, {'parameter': {'jumlah_pohon': 5}, 'akurasi': 0.9828571428571429, 'precision': 0.9843859649122807, 'recall': 0.9828571428571429, 'f1': 0.9831354781981817}]\n"
     ]
    }
   ],
   "source": [
    "print(hasil)"
   ]
  },
  {
   "cell_type": "code",
   "execution_count": 24,
   "metadata": {},
   "outputs": [
    {
     "name": "stdout",
     "output_type": "stream",
     "text": [
      "[[ 5  0  0  0  0  0]\n",
      " [ 1 31  0  0  0  0]\n",
      " [ 0  0 56  0  0  0]\n",
      " [ 0  0  1 42  0  0]\n",
      " [ 0  0  0  0 27  1]\n",
      " [ 0  0  0  0  0 11]]\n"
     ]
    }
   ],
   "source": [
    "print(conf_matrix)"
   ]
  },
  {
   "cell_type": "code",
   "execution_count": 25,
   "metadata": {},
   "outputs": [
    {
     "name": "stdout",
     "output_type": "stream",
     "text": [
      "5\n"
     ]
    }
   ],
   "source": [
    "print(len(hasil))"
   ]
  }
 ],
 "metadata": {
  "kernelspec": {
   "display_name": "Python 3",
   "language": "python",
   "name": "python3"
  },
  "language_info": {
   "codemirror_mode": {
    "name": "ipython",
    "version": 3
   },
   "file_extension": ".py",
   "mimetype": "text/x-python",
   "name": "python",
   "nbconvert_exporter": "python",
   "pygments_lexer": "ipython3",
   "version": "3.10.2"
  }
 },
 "nbformat": 4,
 "nbformat_minor": 2
}
